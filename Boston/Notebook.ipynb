{
 "cells": [
  {
   "cell_type": "markdown",
   "id": "a58e8e04",
   "metadata": {},
   "source": [
    "# **Reading the Dataset**"
   ]
  },
  {
   "cell_type": "code",
   "execution_count": 148,
   "id": "2dbce5fe",
   "metadata": {},
   "outputs": [],
   "source": [
    "import pandas as pd\n",
    "import numpy as np\n",
    "import matplotlib.pyplot as plt"
   ]
  },
  {
   "cell_type": "code",
   "execution_count": 284,
   "id": "e465e0e0",
   "metadata": {},
   "outputs": [],
   "source": [
    "BostonCalendar = pd.read_csv(\"Boston/calendar.csv\")\n",
    "BostonListings = pd.read_csv(\"Boston/listings.csv\")\n",
    "BostonReviews = pd.read_csv(\"Boston/reviews.csv\")"
   ]
  },
  {
   "cell_type": "markdown",
   "id": "7aa57940",
   "metadata": {},
   "source": [
    "# Understanding the dataset and the columns"
   ]
  },
  {
   "cell_type": "code",
   "execution_count": null,
   "id": "435724ff",
   "metadata": {},
   "outputs": [],
   "source": [
    "print (BostonCalendar.head())"
   ]
  },
  {
   "cell_type": "code",
   "execution_count": 3,
   "id": "bec7eb8d",
   "metadata": {},
   "outputs": [
    {
     "name": "stdout",
     "output_type": "stream",
     "text": [
      "   listing_id       id        date  reviewer_id reviewer_name  \\\n",
      "0     1178162  4724140  2013-05-21      4298113       Olivier   \n",
      "1     1178162  4869189  2013-05-29      6452964     Charlotte   \n",
      "2     1178162  5003196  2013-06-06      6449554     Sebastian   \n",
      "3     1178162  5150351  2013-06-15      2215611        Marine   \n",
      "4     1178162  5171140  2013-06-16      6848427        Andrew   \n",
      "\n",
      "                                            comments  \n",
      "0  My stay at islam's place was really cool! Good...  \n",
      "1  Great location for both airport and city - gre...  \n",
      "2  We really enjoyed our stay at Islams house. Fr...  \n",
      "3  The room was nice and clean and so were the co...  \n",
      "4  Great location. Just 5 mins walk from the Airp...  \n"
     ]
    }
   ],
   "source": [
    "print (BostonReviews.head())"
   ]
  },
  {
   "cell_type": "code",
   "execution_count": 4,
   "id": "33a734b4",
   "metadata": {},
   "outputs": [
    {
     "name": "stdout",
     "output_type": "stream",
     "text": [
      "         id                            listing_url       scrape_id  \\\n",
      "0  12147973  https://www.airbnb.com/rooms/12147973  20160906204935   \n",
      "1   3075044   https://www.airbnb.com/rooms/3075044  20160906204935   \n",
      "2      6976      https://www.airbnb.com/rooms/6976  20160906204935   \n",
      "3   1436513   https://www.airbnb.com/rooms/1436513  20160906204935   \n",
      "4   7651065   https://www.airbnb.com/rooms/7651065  20160906204935   \n",
      "\n",
      "  last_scraped                                           name  \\\n",
      "0   2016-09-07                     Sunny Bungalow in the City   \n",
      "1   2016-09-07              Charming room in pet friendly apt   \n",
      "2   2016-09-07               Mexican Folk Art Haven in Boston   \n",
      "3   2016-09-07  Spacious Sunny Bedroom Suite in Historic Home   \n",
      "4   2016-09-07                            Come Home to Boston   \n",
      "\n",
      "                                             summary  \\\n",
      "0  Cozy, sunny, family home.  Master bedroom high...   \n",
      "1  Charming and quiet room in a second floor 1910...   \n",
      "2  Come stay with a friendly, middle-aged guy in ...   \n",
      "3  Come experience the comforts of home away from...   \n",
      "4  My comfy, clean and relaxing home is one block...   \n",
      "\n",
      "                                               space  \\\n",
      "0  The house has an open and cozy feel at the sam...   \n",
      "1  Small but cozy and quite room with a full size...   \n",
      "2  Come stay with a friendly, middle-aged guy in ...   \n",
      "3  Most places you find in Boston are small howev...   \n",
      "4  Clean, attractive, private room, one block fro...   \n",
      "\n",
      "                                         description experiences_offered  \\\n",
      "0  Cozy, sunny, family home.  Master bedroom high...                none   \n",
      "1  Charming and quiet room in a second floor 1910...                none   \n",
      "2  Come stay with a friendly, middle-aged guy in ...                none   \n",
      "3  Come experience the comforts of home away from...                none   \n",
      "4  My comfy, clean and relaxing home is one block...                none   \n",
      "\n",
      "                               neighborhood_overview  ... review_scores_value  \\\n",
      "0  Roslindale is quiet, convenient and friendly. ...  ...                 NaN   \n",
      "1  The room is in Roslindale, a diverse and prima...  ...                 9.0   \n",
      "2  The LOCATION: Roslindale is a safe and diverse...  ...                10.0   \n",
      "3  Roslindale is a lovely little neighborhood loc...  ...                10.0   \n",
      "4  I love the proximity to downtown, the neighbor...  ...                10.0   \n",
      "\n",
      "  requires_license license jurisdiction_names instant_bookable  \\\n",
      "0                f     NaN                NaN                f   \n",
      "1                f     NaN                NaN                t   \n",
      "2                f     NaN                NaN                f   \n",
      "3                f     NaN                NaN                f   \n",
      "4                f     NaN                NaN                f   \n",
      "\n",
      "  cancellation_policy require_guest_profile_picture  \\\n",
      "0            moderate                             f   \n",
      "1            moderate                             f   \n",
      "2            moderate                             t   \n",
      "3            moderate                             f   \n",
      "4            flexible                             f   \n",
      "\n",
      "  require_guest_phone_verification calculated_host_listings_count  \\\n",
      "0                                f                              1   \n",
      "1                                f                              1   \n",
      "2                                f                              1   \n",
      "3                                f                              1   \n",
      "4                                f                              1   \n",
      "\n",
      "   reviews_per_month  \n",
      "0                NaN  \n",
      "1               1.30  \n",
      "2               0.47  \n",
      "3               1.00  \n",
      "4               2.25  \n",
      "\n",
      "[5 rows x 95 columns]\n"
     ]
    }
   ],
   "source": [
    "print (BostonListings.head())"
   ]
  },
  {
   "cell_type": "code",
   "execution_count": 5,
   "id": "f0c023f7",
   "metadata": {},
   "outputs": [
    {
     "data": {
      "text/html": [
       "<div>\n",
       "<style scoped>\n",
       "    .dataframe tbody tr th:only-of-type {\n",
       "        vertical-align: middle;\n",
       "    }\n",
       "\n",
       "    .dataframe tbody tr th {\n",
       "        vertical-align: top;\n",
       "    }\n",
       "\n",
       "    .dataframe thead th {\n",
       "        text-align: right;\n",
       "    }\n",
       "</style>\n",
       "<table border=\"1\" class=\"dataframe\">\n",
       "  <thead>\n",
       "    <tr style=\"text-align: right;\">\n",
       "      <th></th>\n",
       "      <th>listing_id</th>\n",
       "      <th>id</th>\n",
       "      <th>date</th>\n",
       "      <th>reviewer_id</th>\n",
       "      <th>reviewer_name</th>\n",
       "      <th>comments</th>\n",
       "    </tr>\n",
       "  </thead>\n",
       "  <tbody>\n",
       "    <tr>\n",
       "      <th>0</th>\n",
       "      <td>1178162</td>\n",
       "      <td>4724140</td>\n",
       "      <td>2013-05-21</td>\n",
       "      <td>4298113</td>\n",
       "      <td>Olivier</td>\n",
       "      <td>My stay at islam's place was really cool! Good...</td>\n",
       "    </tr>\n",
       "    <tr>\n",
       "      <th>1</th>\n",
       "      <td>1178162</td>\n",
       "      <td>4869189</td>\n",
       "      <td>2013-05-29</td>\n",
       "      <td>6452964</td>\n",
       "      <td>Charlotte</td>\n",
       "      <td>Great location for both airport and city - gre...</td>\n",
       "    </tr>\n",
       "    <tr>\n",
       "      <th>2</th>\n",
       "      <td>1178162</td>\n",
       "      <td>5003196</td>\n",
       "      <td>2013-06-06</td>\n",
       "      <td>6449554</td>\n",
       "      <td>Sebastian</td>\n",
       "      <td>We really enjoyed our stay at Islams house. Fr...</td>\n",
       "    </tr>\n",
       "    <tr>\n",
       "      <th>3</th>\n",
       "      <td>1178162</td>\n",
       "      <td>5150351</td>\n",
       "      <td>2013-06-15</td>\n",
       "      <td>2215611</td>\n",
       "      <td>Marine</td>\n",
       "      <td>The room was nice and clean and so were the co...</td>\n",
       "    </tr>\n",
       "    <tr>\n",
       "      <th>4</th>\n",
       "      <td>1178162</td>\n",
       "      <td>5171140</td>\n",
       "      <td>2013-06-16</td>\n",
       "      <td>6848427</td>\n",
       "      <td>Andrew</td>\n",
       "      <td>Great location. Just 5 mins walk from the Airp...</td>\n",
       "    </tr>\n",
       "    <tr>\n",
       "      <th>...</th>\n",
       "      <td>...</td>\n",
       "      <td>...</td>\n",
       "      <td>...</td>\n",
       "      <td>...</td>\n",
       "      <td>...</td>\n",
       "      <td>...</td>\n",
       "    </tr>\n",
       "    <tr>\n",
       "      <th>68270</th>\n",
       "      <td>7462268</td>\n",
       "      <td>80537457</td>\n",
       "      <td>2016-06-18</td>\n",
       "      <td>22034145</td>\n",
       "      <td>Antonio</td>\n",
       "      <td>Joe y su mujer son encantadores. La habitación...</td>\n",
       "    </tr>\n",
       "    <tr>\n",
       "      <th>68271</th>\n",
       "      <td>7462268</td>\n",
       "      <td>83640094</td>\n",
       "      <td>2016-07-03</td>\n",
       "      <td>40052513</td>\n",
       "      <td>Steve</td>\n",
       "      <td>Joe was on his way to Jamaica to be married! o...</td>\n",
       "    </tr>\n",
       "    <tr>\n",
       "      <th>68272</th>\n",
       "      <td>7462268</td>\n",
       "      <td>85797088</td>\n",
       "      <td>2016-07-13</td>\n",
       "      <td>77129134</td>\n",
       "      <td>Nick</td>\n",
       "      <td>The room was very clean as were the bathrooms ...</td>\n",
       "    </tr>\n",
       "    <tr>\n",
       "      <th>68273</th>\n",
       "      <td>7462268</td>\n",
       "      <td>97264637</td>\n",
       "      <td>2016-08-26</td>\n",
       "      <td>15799803</td>\n",
       "      <td>Vid</td>\n",
       "      <td>Staying in Lower Allston at Joe and Nancy's pl...</td>\n",
       "    </tr>\n",
       "    <tr>\n",
       "      <th>68274</th>\n",
       "      <td>7462268</td>\n",
       "      <td>98550693</td>\n",
       "      <td>2016-08-31</td>\n",
       "      <td>90128094</td>\n",
       "      <td>Arianna</td>\n",
       "      <td>The room itself and the aprtment were very cle...</td>\n",
       "    </tr>\n",
       "  </tbody>\n",
       "</table>\n",
       "<p>68275 rows × 6 columns</p>\n",
       "</div>"
      ],
      "text/plain": [
       "       listing_id        id        date  reviewer_id reviewer_name  \\\n",
       "0         1178162   4724140  2013-05-21      4298113       Olivier   \n",
       "1         1178162   4869189  2013-05-29      6452964     Charlotte   \n",
       "2         1178162   5003196  2013-06-06      6449554     Sebastian   \n",
       "3         1178162   5150351  2013-06-15      2215611        Marine   \n",
       "4         1178162   5171140  2013-06-16      6848427        Andrew   \n",
       "...           ...       ...         ...          ...           ...   \n",
       "68270     7462268  80537457  2016-06-18     22034145       Antonio   \n",
       "68271     7462268  83640094  2016-07-03     40052513         Steve   \n",
       "68272     7462268  85797088  2016-07-13     77129134          Nick   \n",
       "68273     7462268  97264637  2016-08-26     15799803           Vid   \n",
       "68274     7462268  98550693  2016-08-31     90128094       Arianna   \n",
       "\n",
       "                                                comments  \n",
       "0      My stay at islam's place was really cool! Good...  \n",
       "1      Great location for both airport and city - gre...  \n",
       "2      We really enjoyed our stay at Islams house. Fr...  \n",
       "3      The room was nice and clean and so were the co...  \n",
       "4      Great location. Just 5 mins walk from the Airp...  \n",
       "...                                                  ...  \n",
       "68270  Joe y su mujer son encantadores. La habitación...  \n",
       "68271  Joe was on his way to Jamaica to be married! o...  \n",
       "68272  The room was very clean as were the bathrooms ...  \n",
       "68273  Staying in Lower Allston at Joe and Nancy's pl...  \n",
       "68274  The room itself and the aprtment were very cle...  \n",
       "\n",
       "[68275 rows x 6 columns]"
      ]
     },
     "execution_count": 5,
     "metadata": {},
     "output_type": "execute_result"
    }
   ],
   "source": [
    "BostonReviews"
   ]
  },
  {
   "cell_type": "code",
   "execution_count": 6,
   "id": "49ebec57",
   "metadata": {},
   "outputs": [
    {
     "data": {
      "text/plain": [
       "66288       404\n",
       "1497879     320\n",
       "414419      312\n",
       "31796       291\n",
       "916123      281\n",
       "           ... \n",
       "9541666       1\n",
       "13866156      1\n",
       "10411383      1\n",
       "14663743      1\n",
       "5498472       1\n",
       "Name: listing_id, Length: 2829, dtype: int64"
      ]
     },
     "execution_count": 6,
     "metadata": {},
     "output_type": "execute_result"
    }
   ],
   "source": [
    "BostonReviews['listing_id'].value_counts()"
   ]
  },
  {
   "cell_type": "code",
   "execution_count": 7,
   "id": "395d1403",
   "metadata": {},
   "outputs": [
    {
     "data": {
      "text/plain": [
       "Index(['listing_id', 'date', 'available', 'price'], dtype='object')"
      ]
     },
     "execution_count": 7,
     "metadata": {},
     "output_type": "execute_result"
    }
   ],
   "source": [
    "BostonCalendar.columns"
   ]
  },
  {
   "cell_type": "code",
   "execution_count": 8,
   "id": "f95917ca",
   "metadata": {},
   "outputs": [
    {
     "data": {
      "text/plain": [
       "Index(['id', 'listing_url', 'scrape_id', 'last_scraped', 'name', 'summary',\n",
       "       'space', 'description', 'experiences_offered', 'neighborhood_overview',\n",
       "       'notes', 'transit', 'access', 'interaction', 'house_rules',\n",
       "       'thumbnail_url', 'medium_url', 'picture_url', 'xl_picture_url',\n",
       "       'host_id', 'host_url', 'host_name', 'host_since', 'host_location',\n",
       "       'host_about', 'host_response_time', 'host_response_rate',\n",
       "       'host_acceptance_rate', 'host_is_superhost', 'host_thumbnail_url',\n",
       "       'host_picture_url', 'host_neighbourhood', 'host_listings_count',\n",
       "       'host_total_listings_count', 'host_verifications',\n",
       "       'host_has_profile_pic', 'host_identity_verified', 'street',\n",
       "       'neighbourhood', 'neighbourhood_cleansed',\n",
       "       'neighbourhood_group_cleansed', 'city', 'state', 'zipcode', 'market',\n",
       "       'smart_location', 'country_code', 'country', 'latitude', 'longitude',\n",
       "       'is_location_exact', 'property_type', 'room_type', 'accommodates',\n",
       "       'bathrooms', 'bedrooms', 'beds', 'bed_type', 'amenities', 'square_feet',\n",
       "       'price', 'weekly_price', 'monthly_price', 'security_deposit',\n",
       "       'cleaning_fee', 'guests_included', 'extra_people', 'minimum_nights',\n",
       "       'maximum_nights', 'calendar_updated', 'has_availability',\n",
       "       'availability_30', 'availability_60', 'availability_90',\n",
       "       'availability_365', 'calendar_last_scraped', 'number_of_reviews',\n",
       "       'first_review', 'last_review', 'review_scores_rating',\n",
       "       'review_scores_accuracy', 'review_scores_cleanliness',\n",
       "       'review_scores_checkin', 'review_scores_communication',\n",
       "       'review_scores_location', 'review_scores_value', 'requires_license',\n",
       "       'license', 'jurisdiction_names', 'instant_bookable',\n",
       "       'cancellation_policy', 'require_guest_profile_picture',\n",
       "       'require_guest_phone_verification', 'calculated_host_listings_count',\n",
       "       'reviews_per_month'],\n",
       "      dtype='object')"
      ]
     },
     "execution_count": 8,
     "metadata": {},
     "output_type": "execute_result"
    }
   ],
   "source": [
    "BostonListings.columns"
   ]
  },
  {
   "cell_type": "code",
   "execution_count": 9,
   "id": "613967ac",
   "metadata": {},
   "outputs": [
    {
     "data": {
      "text/plain": [
       "Index(['listing_id', 'id', 'date', 'reviewer_id', 'reviewer_name', 'comments'], dtype='object')"
      ]
     },
     "execution_count": 9,
     "metadata": {},
     "output_type": "execute_result"
    }
   ],
   "source": [
    "BostonReviews.columns"
   ]
  },
  {
   "cell_type": "code",
   "execution_count": 10,
   "id": "37cfeda5",
   "metadata": {},
   "outputs": [
    {
     "data": {
      "text/plain": [
       "f    665853\n",
       "t    643037\n",
       "Name: available, dtype: int64"
      ]
     },
     "execution_count": 10,
     "metadata": {},
     "output_type": "execute_result"
    }
   ],
   "source": [
    "BostonCalendar['available'].value_counts()"
   ]
  },
  {
   "cell_type": "code",
   "execution_count": null,
   "id": "14e6e928",
   "metadata": {},
   "outputs": [],
   "source": []
  },
  {
   "cell_type": "code",
   "execution_count": 11,
   "id": "1687ec8f",
   "metadata": {},
   "outputs": [
    {
     "data": {
      "text/plain": [
       "0"
      ]
     },
     "execution_count": 11,
     "metadata": {},
     "output_type": "execute_result"
    }
   ],
   "source": [
    "BostonListings['listing_url'].isnull().sum()"
   ]
  },
  {
   "cell_type": "code",
   "execution_count": 285,
   "id": "632a37a9",
   "metadata": {},
   "outputs": [],
   "source": [
    "x = BostonListings[['id','number_of_reviews']].sort_values(by = ['number_of_reviews'],ascending = False)"
   ]
  },
  {
   "cell_type": "code",
   "execution_count": 286,
   "id": "2fc8a07f",
   "metadata": {},
   "outputs": [
    {
     "data": {
      "text/html": [
       "<div>\n",
       "<style scoped>\n",
       "    .dataframe tbody tr th:only-of-type {\n",
       "        vertical-align: middle;\n",
       "    }\n",
       "\n",
       "    .dataframe tbody tr th {\n",
       "        vertical-align: top;\n",
       "    }\n",
       "\n",
       "    .dataframe thead th {\n",
       "        text-align: right;\n",
       "    }\n",
       "</style>\n",
       "<table border=\"1\" class=\"dataframe\">\n",
       "  <thead>\n",
       "    <tr style=\"text-align: right;\">\n",
       "      <th></th>\n",
       "      <th>id</th>\n",
       "      <th>number_of_reviews</th>\n",
       "    </tr>\n",
       "  </thead>\n",
       "  <tbody>\n",
       "    <tr>\n",
       "      <th>414</th>\n",
       "      <td>66288</td>\n",
       "      <td>404</td>\n",
       "    </tr>\n",
       "    <tr>\n",
       "      <th>1637</th>\n",
       "      <td>1497879</td>\n",
       "      <td>320</td>\n",
       "    </tr>\n",
       "    <tr>\n",
       "      <th>1460</th>\n",
       "      <td>414419</td>\n",
       "      <td>312</td>\n",
       "    </tr>\n",
       "    <tr>\n",
       "      <th>2809</th>\n",
       "      <td>31796</td>\n",
       "      <td>291</td>\n",
       "    </tr>\n",
       "    <tr>\n",
       "      <th>679</th>\n",
       "      <td>815639</td>\n",
       "      <td>281</td>\n",
       "    </tr>\n",
       "  </tbody>\n",
       "</table>\n",
       "</div>"
      ],
      "text/plain": [
       "           id  number_of_reviews\n",
       "414     66288                404\n",
       "1637  1497879                320\n",
       "1460   414419                312\n",
       "2809    31796                291\n",
       "679    815639                281"
      ]
     },
     "execution_count": 286,
     "metadata": {},
     "output_type": "execute_result"
    }
   ],
   "source": [
    "x.head()"
   ]
  },
  {
   "cell_type": "code",
   "execution_count": 15,
   "id": "26f892dd",
   "metadata": {},
   "outputs": [],
   "source": [
    "x = BostonReviews['listing_id'].value_counts()"
   ]
  },
  {
   "cell_type": "code",
   "execution_count": 16,
   "id": "ef08f35e",
   "metadata": {},
   "outputs": [],
   "source": [
    "y = BostonListings[['id','number_of_reviews']]"
   ]
  },
  {
   "cell_type": "code",
   "execution_count": 18,
   "id": "f142d8d2",
   "metadata": {},
   "outputs": [],
   "source": [
    "BostonPopular = pd.DataFrame(BostonReviews['listing_id'].value_counts(),index = np.arange(BostonReviews.shape[0],dtype = 'int'))"
   ]
  },
  {
   "cell_type": "code",
   "execution_count": 19,
   "id": "71066465",
   "metadata": {},
   "outputs": [
    {
     "data": {
      "text/plain": [
       "66288       404\n",
       "1497879     320\n",
       "414419      312\n",
       "31796       291\n",
       "916123      281\n",
       "           ... \n",
       "9541666       1\n",
       "13866156      1\n",
       "10411383      1\n",
       "14663743      1\n",
       "5498472       1\n",
       "Name: listing_id, Length: 2829, dtype: int64"
      ]
     },
     "execution_count": 19,
     "metadata": {},
     "output_type": "execute_result"
    }
   ],
   "source": [
    "x.head()"
   ]
  },
  {
   "cell_type": "code",
   "execution_count": 20,
   "id": "87c079de",
   "metadata": {},
   "outputs": [
    {
     "data": {
      "text/html": [
       "<div>\n",
       "<style scoped>\n",
       "    .dataframe tbody tr th:only-of-type {\n",
       "        vertical-align: middle;\n",
       "    }\n",
       "\n",
       "    .dataframe tbody tr th {\n",
       "        vertical-align: top;\n",
       "    }\n",
       "\n",
       "    .dataframe thead th {\n",
       "        text-align: right;\n",
       "    }\n",
       "</style>\n",
       "<table border=\"1\" class=\"dataframe\">\n",
       "  <thead>\n",
       "    <tr style=\"text-align: right;\">\n",
       "      <th></th>\n",
       "      <th>id</th>\n",
       "      <th>number_of_reviews</th>\n",
       "    </tr>\n",
       "  </thead>\n",
       "  <tbody>\n",
       "    <tr>\n",
       "      <th>414</th>\n",
       "      <td>66288</td>\n",
       "      <td>404</td>\n",
       "    </tr>\n",
       "    <tr>\n",
       "      <th>1637</th>\n",
       "      <td>1497879</td>\n",
       "      <td>320</td>\n",
       "    </tr>\n",
       "    <tr>\n",
       "      <th>1460</th>\n",
       "      <td>414419</td>\n",
       "      <td>312</td>\n",
       "    </tr>\n",
       "    <tr>\n",
       "      <th>2809</th>\n",
       "      <td>31796</td>\n",
       "      <td>291</td>\n",
       "    </tr>\n",
       "    <tr>\n",
       "      <th>679</th>\n",
       "      <td>815639</td>\n",
       "      <td>281</td>\n",
       "    </tr>\n",
       "    <tr>\n",
       "      <th>...</th>\n",
       "      <td>...</td>\n",
       "      <td>...</td>\n",
       "    </tr>\n",
       "    <tr>\n",
       "      <th>2161</th>\n",
       "      <td>9425087</td>\n",
       "      <td>0</td>\n",
       "    </tr>\n",
       "    <tr>\n",
       "      <th>2158</th>\n",
       "      <td>14421692</td>\n",
       "      <td>0</td>\n",
       "    </tr>\n",
       "    <tr>\n",
       "      <th>2156</th>\n",
       "      <td>14421841</td>\n",
       "      <td>0</td>\n",
       "    </tr>\n",
       "    <tr>\n",
       "      <th>2152</th>\n",
       "      <td>13980127</td>\n",
       "      <td>0</td>\n",
       "    </tr>\n",
       "    <tr>\n",
       "      <th>3584</th>\n",
       "      <td>14504422</td>\n",
       "      <td>0</td>\n",
       "    </tr>\n",
       "  </tbody>\n",
       "</table>\n",
       "<p>3585 rows × 2 columns</p>\n",
       "</div>"
      ],
      "text/plain": [
       "            id  number_of_reviews\n",
       "414      66288                404\n",
       "1637   1497879                320\n",
       "1460    414419                312\n",
       "2809     31796                291\n",
       "679     815639                281\n",
       "...        ...                ...\n",
       "2161   9425087                  0\n",
       "2158  14421692                  0\n",
       "2156  14421841                  0\n",
       "2152  13980127                  0\n",
       "3584  14504422                  0\n",
       "\n",
       "[3585 rows x 2 columns]"
      ]
     },
     "execution_count": 20,
     "metadata": {},
     "output_type": "execute_result"
    }
   ],
   "source": [
    "y.sort_values(by = 'number_of_reviews',ascending = False)"
   ]
  },
  {
   "cell_type": "markdown",
   "id": "8d5c5d89",
   "metadata": {},
   "source": [
    "## From the table given above we can observe some of most popular lisitings in Boston having the maximum reviews"
   ]
  },
  {
   "cell_type": "code",
   "execution_count": 21,
   "id": "b80c3d00",
   "metadata": {},
   "outputs": [
    {
     "data": {
      "text/html": [
       "<div>\n",
       "<style scoped>\n",
       "    .dataframe tbody tr th:only-of-type {\n",
       "        vertical-align: middle;\n",
       "    }\n",
       "\n",
       "    .dataframe tbody tr th {\n",
       "        vertical-align: top;\n",
       "    }\n",
       "\n",
       "    .dataframe thead th {\n",
       "        text-align: right;\n",
       "    }\n",
       "</style>\n",
       "<table border=\"1\" class=\"dataframe\">\n",
       "  <thead>\n",
       "    <tr style=\"text-align: right;\">\n",
       "      <th></th>\n",
       "      <th>listing_id</th>\n",
       "    </tr>\n",
       "  </thead>\n",
       "  <tbody>\n",
       "    <tr>\n",
       "      <th>0</th>\n",
       "      <td>NaN</td>\n",
       "    </tr>\n",
       "    <tr>\n",
       "      <th>1</th>\n",
       "      <td>NaN</td>\n",
       "    </tr>\n",
       "    <tr>\n",
       "      <th>2</th>\n",
       "      <td>NaN</td>\n",
       "    </tr>\n",
       "    <tr>\n",
       "      <th>3</th>\n",
       "      <td>NaN</td>\n",
       "    </tr>\n",
       "    <tr>\n",
       "      <th>4</th>\n",
       "      <td>NaN</td>\n",
       "    </tr>\n",
       "    <tr>\n",
       "      <th>...</th>\n",
       "      <td>...</td>\n",
       "    </tr>\n",
       "    <tr>\n",
       "      <th>68270</th>\n",
       "      <td>NaN</td>\n",
       "    </tr>\n",
       "    <tr>\n",
       "      <th>68271</th>\n",
       "      <td>NaN</td>\n",
       "    </tr>\n",
       "    <tr>\n",
       "      <th>68272</th>\n",
       "      <td>NaN</td>\n",
       "    </tr>\n",
       "    <tr>\n",
       "      <th>68273</th>\n",
       "      <td>NaN</td>\n",
       "    </tr>\n",
       "    <tr>\n",
       "      <th>68274</th>\n",
       "      <td>NaN</td>\n",
       "    </tr>\n",
       "  </tbody>\n",
       "</table>\n",
       "<p>68275 rows × 1 columns</p>\n",
       "</div>"
      ],
      "text/plain": [
       "       listing_id\n",
       "0             NaN\n",
       "1             NaN\n",
       "2             NaN\n",
       "3             NaN\n",
       "4             NaN\n",
       "...           ...\n",
       "68270         NaN\n",
       "68271         NaN\n",
       "68272         NaN\n",
       "68273         NaN\n",
       "68274         NaN\n",
       "\n",
       "[68275 rows x 1 columns]"
      ]
     },
     "execution_count": 21,
     "metadata": {},
     "output_type": "execute_result"
    }
   ],
   "source": [
    "BostonPopular.head()"
   ]
  },
  {
   "cell_type": "markdown",
   "id": "1365c56a",
   "metadata": {},
   "source": [
    "# __Identifying the most expensive zipcodes__"
   ]
  },
  {
   "cell_type": "code",
   "execution_count": 107,
   "id": "bda37c3a",
   "metadata": {},
   "outputs": [],
   "source": [
    "df_1 = BostonListings[['zipcode','id']].copy()"
   ]
  },
  {
   "cell_type": "code",
   "execution_count": 108,
   "id": "5fefad2b",
   "metadata": {},
   "outputs": [],
   "source": [
    "df_2 = BostonCalendar[['listing_id','price']].copy()"
   ]
  },
  {
   "cell_type": "code",
   "execution_count": 109,
   "id": "9110678b",
   "metadata": {},
   "outputs": [],
   "source": [
    "df_2.dropna(axis = 0,inplace = True)"
   ]
  },
  {
   "cell_type": "code",
   "execution_count": 110,
   "id": "d343fd56",
   "metadata": {},
   "outputs": [],
   "source": [
    "df_2['price'] = df_2['price'].apply(lambda x: float(x.replace(\",\",\"\").strip('$')))"
   ]
  },
  {
   "cell_type": "code",
   "execution_count": 111,
   "id": "b6865ce8",
   "metadata": {},
   "outputs": [],
   "source": [
    "df_3 = df_2.groupby(by = 'listing_id').max()"
   ]
  },
  {
   "cell_type": "code",
   "execution_count": 112,
   "id": "4154d563",
   "metadata": {},
   "outputs": [],
   "source": [
    "df_4 = df_2.groupby(by = 'listing_id').mean()"
   ]
  },
  {
   "cell_type": "markdown",
   "id": "142ca072",
   "metadata": {},
   "source": []
  },
  {
   "cell_type": "code",
   "execution_count": 114,
   "id": "95f9388f",
   "metadata": {},
   "outputs": [],
   "source": [
    "df_merge = df_3.join(df_4 ,on = 'listing_id',lsuffix = \"max\",rsuffix = \"mean\")"
   ]
  },
  {
   "cell_type": "code",
   "execution_count": 115,
   "id": "9f0a3a4b",
   "metadata": {},
   "outputs": [
    {
     "data": {
      "text/html": [
       "<div>\n",
       "<style scoped>\n",
       "    .dataframe tbody tr th:only-of-type {\n",
       "        vertical-align: middle;\n",
       "    }\n",
       "\n",
       "    .dataframe tbody tr th {\n",
       "        vertical-align: top;\n",
       "    }\n",
       "\n",
       "    .dataframe thead th {\n",
       "        text-align: right;\n",
       "    }\n",
       "</style>\n",
       "<table border=\"1\" class=\"dataframe\">\n",
       "  <thead>\n",
       "    <tr style=\"text-align: right;\">\n",
       "      <th></th>\n",
       "      <th>pricemax</th>\n",
       "      <th>pricemean</th>\n",
       "    </tr>\n",
       "    <tr>\n",
       "      <th>listing_id</th>\n",
       "      <th></th>\n",
       "      <th></th>\n",
       "    </tr>\n",
       "  </thead>\n",
       "  <tbody>\n",
       "    <tr>\n",
       "      <th>3353</th>\n",
       "      <td>36.0</td>\n",
       "      <td>35.204819</td>\n",
       "    </tr>\n",
       "    <tr>\n",
       "      <th>5506</th>\n",
       "      <td>275.0</td>\n",
       "      <td>147.267442</td>\n",
       "    </tr>\n",
       "    <tr>\n",
       "      <th>6695</th>\n",
       "      <td>325.0</td>\n",
       "      <td>197.407407</td>\n",
       "    </tr>\n",
       "    <tr>\n",
       "      <th>6976</th>\n",
       "      <td>65.0</td>\n",
       "      <td>65.000000</td>\n",
       "    </tr>\n",
       "    <tr>\n",
       "      <th>8792</th>\n",
       "      <td>154.0</td>\n",
       "      <td>154.000000</td>\n",
       "    </tr>\n",
       "    <tr>\n",
       "      <th>...</th>\n",
       "      <td>...</td>\n",
       "      <td>...</td>\n",
       "    </tr>\n",
       "    <tr>\n",
       "      <th>14924831</th>\n",
       "      <td>180.0</td>\n",
       "      <td>169.515152</td>\n",
       "    </tr>\n",
       "    <tr>\n",
       "      <th>14928000</th>\n",
       "      <td>55.0</td>\n",
       "      <td>55.000000</td>\n",
       "    </tr>\n",
       "    <tr>\n",
       "      <th>14928333</th>\n",
       "      <td>113.0</td>\n",
       "      <td>105.380531</td>\n",
       "    </tr>\n",
       "    <tr>\n",
       "      <th>14933380</th>\n",
       "      <td>49.0</td>\n",
       "      <td>49.000000</td>\n",
       "    </tr>\n",
       "    <tr>\n",
       "      <th>14933461</th>\n",
       "      <td>182.0</td>\n",
       "      <td>165.113333</td>\n",
       "    </tr>\n",
       "  </tbody>\n",
       "</table>\n",
       "<p>2906 rows × 2 columns</p>\n",
       "</div>"
      ],
      "text/plain": [
       "            pricemax   pricemean\n",
       "listing_id                      \n",
       "3353            36.0   35.204819\n",
       "5506           275.0  147.267442\n",
       "6695           325.0  197.407407\n",
       "6976            65.0   65.000000\n",
       "8792           154.0  154.000000\n",
       "...              ...         ...\n",
       "14924831       180.0  169.515152\n",
       "14928000        55.0   55.000000\n",
       "14928333       113.0  105.380531\n",
       "14933380        49.0   49.000000\n",
       "14933461       182.0  165.113333\n",
       "\n",
       "[2906 rows x 2 columns]"
      ]
     },
     "execution_count": 115,
     "metadata": {},
     "output_type": "execute_result"
    }
   ],
   "source": [
    "df_merge.head()"
   ]
  },
  {
   "cell_type": "code",
   "execution_count": 117,
   "id": "334f55a3",
   "metadata": {},
   "outputs": [],
   "source": [
    "df_1.dropna(subset = ['zipcode'], axis = 0,inplace = True)"
   ]
  },
  {
   "cell_type": "code",
   "execution_count": 118,
   "id": "d4ecfe9c",
   "metadata": {},
   "outputs": [],
   "source": [
    "df_1.columns = ['zipcode','listing_id']"
   ]
  },
  {
   "cell_type": "code",
   "execution_count": 119,
   "id": "6a3941f8",
   "metadata": {},
   "outputs": [],
   "source": [
    "df_comp = df_1.merge(df_merge,on = 'listing_id')"
   ]
  },
  {
   "cell_type": "code",
   "execution_count": 120,
   "id": "96dbcf87",
   "metadata": {},
   "outputs": [
    {
     "data": {
      "text/html": [
       "<div>\n",
       "<style scoped>\n",
       "    .dataframe tbody tr th:only-of-type {\n",
       "        vertical-align: middle;\n",
       "    }\n",
       "\n",
       "    .dataframe tbody tr th {\n",
       "        vertical-align: top;\n",
       "    }\n",
       "\n",
       "    .dataframe thead th {\n",
       "        text-align: right;\n",
       "    }\n",
       "</style>\n",
       "<table border=\"1\" class=\"dataframe\">\n",
       "  <thead>\n",
       "    <tr style=\"text-align: right;\">\n",
       "      <th></th>\n",
       "      <th>zipcode</th>\n",
       "      <th>listing_id</th>\n",
       "      <th>pricemax</th>\n",
       "      <th>pricemean</th>\n",
       "    </tr>\n",
       "  </thead>\n",
       "  <tbody>\n",
       "    <tr>\n",
       "      <th>0</th>\n",
       "      <td>02131</td>\n",
       "      <td>3075044</td>\n",
       "      <td>75.0</td>\n",
       "      <td>67.813370</td>\n",
       "    </tr>\n",
       "    <tr>\n",
       "      <th>1</th>\n",
       "      <td>02131</td>\n",
       "      <td>6976</td>\n",
       "      <td>65.0</td>\n",
       "      <td>65.000000</td>\n",
       "    </tr>\n",
       "    <tr>\n",
       "      <th>2</th>\n",
       "      <td>02131</td>\n",
       "      <td>7651065</td>\n",
       "      <td>79.0</td>\n",
       "      <td>79.000000</td>\n",
       "    </tr>\n",
       "    <tr>\n",
       "      <th>3</th>\n",
       "      <td>02131</td>\n",
       "      <td>12386020</td>\n",
       "      <td>75.0</td>\n",
       "      <td>75.000000</td>\n",
       "    </tr>\n",
       "    <tr>\n",
       "      <th>4</th>\n",
       "      <td>02131</td>\n",
       "      <td>5706985</td>\n",
       "      <td>200.0</td>\n",
       "      <td>111.755814</td>\n",
       "    </tr>\n",
       "    <tr>\n",
       "      <th>...</th>\n",
       "      <td>...</td>\n",
       "      <td>...</td>\n",
       "      <td>...</td>\n",
       "      <td>...</td>\n",
       "    </tr>\n",
       "    <tr>\n",
       "      <th>2872</th>\n",
       "      <td>02143</td>\n",
       "      <td>8373729</td>\n",
       "      <td>75.0</td>\n",
       "      <td>70.657303</td>\n",
       "    </tr>\n",
       "    <tr>\n",
       "      <th>2873</th>\n",
       "      <td>02446</td>\n",
       "      <td>14844274</td>\n",
       "      <td>150.0</td>\n",
       "      <td>150.000000</td>\n",
       "    </tr>\n",
       "    <tr>\n",
       "      <th>2874</th>\n",
       "      <td>02141</td>\n",
       "      <td>14585486</td>\n",
       "      <td>155.0</td>\n",
       "      <td>123.275000</td>\n",
       "    </tr>\n",
       "    <tr>\n",
       "      <th>2875</th>\n",
       "      <td>02145</td>\n",
       "      <td>14603878</td>\n",
       "      <td>59.0</td>\n",
       "      <td>59.000000</td>\n",
       "    </tr>\n",
       "    <tr>\n",
       "      <th>2876</th>\n",
       "      <td>02145</td>\n",
       "      <td>14504422</td>\n",
       "      <td>65.0</td>\n",
       "      <td>64.781818</td>\n",
       "    </tr>\n",
       "  </tbody>\n",
       "</table>\n",
       "<p>2877 rows × 4 columns</p>\n",
       "</div>"
      ],
      "text/plain": [
       "     zipcode  listing_id  pricemax   pricemean\n",
       "0      02131     3075044      75.0   67.813370\n",
       "1      02131        6976      65.0   65.000000\n",
       "2      02131     7651065      79.0   79.000000\n",
       "3      02131    12386020      75.0   75.000000\n",
       "4      02131     5706985     200.0  111.755814\n",
       "...      ...         ...       ...         ...\n",
       "2872   02143     8373729      75.0   70.657303\n",
       "2873   02446    14844274     150.0  150.000000\n",
       "2874   02141    14585486     155.0  123.275000\n",
       "2875   02145    14603878      59.0   59.000000\n",
       "2876   02145    14504422      65.0   64.781818\n",
       "\n",
       "[2877 rows x 4 columns]"
      ]
     },
     "execution_count": 120,
     "metadata": {},
     "output_type": "execute_result"
    }
   ],
   "source": [
    "df_comp.head()"
   ]
  },
  {
   "cell_type": "code",
   "execution_count": 121,
   "id": "a37dfc8a",
   "metadata": {},
   "outputs": [],
   "source": [
    "df_comp.sort_values(by = ['zipcode'],inplace = True)"
   ]
  },
  {
   "cell_type": "code",
   "execution_count": 122,
   "id": "8e766e2b",
   "metadata": {},
   "outputs": [],
   "source": [
    "df_comp.drop(columns = ['listing_id'],axis =1,inplace = True)"
   ]
  },
  {
   "cell_type": "code",
   "execution_count": 123,
   "id": "983477df",
   "metadata": {},
   "outputs": [
    {
     "data": {
      "text/html": [
       "<div>\n",
       "<style scoped>\n",
       "    .dataframe tbody tr th:only-of-type {\n",
       "        vertical-align: middle;\n",
       "    }\n",
       "\n",
       "    .dataframe tbody tr th {\n",
       "        vertical-align: top;\n",
       "    }\n",
       "\n",
       "    .dataframe thead th {\n",
       "        text-align: right;\n",
       "    }\n",
       "</style>\n",
       "<table border=\"1\" class=\"dataframe\">\n",
       "  <thead>\n",
       "    <tr style=\"text-align: right;\">\n",
       "      <th></th>\n",
       "      <th>zipcode</th>\n",
       "      <th>pricemax</th>\n",
       "      <th>pricemean</th>\n",
       "    </tr>\n",
       "  </thead>\n",
       "  <tbody>\n",
       "    <tr>\n",
       "      <th>1627</th>\n",
       "      <td>02108</td>\n",
       "      <td>299.0</td>\n",
       "      <td>151.307692</td>\n",
       "    </tr>\n",
       "    <tr>\n",
       "      <th>1596</th>\n",
       "      <td>02108</td>\n",
       "      <td>1203.0</td>\n",
       "      <td>344.589506</td>\n",
       "    </tr>\n",
       "    <tr>\n",
       "      <th>1717</th>\n",
       "      <td>02108</td>\n",
       "      <td>175.0</td>\n",
       "      <td>163.741722</td>\n",
       "    </tr>\n",
       "    <tr>\n",
       "      <th>1752</th>\n",
       "      <td>02108</td>\n",
       "      <td>120.0</td>\n",
       "      <td>104.983051</td>\n",
       "    </tr>\n",
       "    <tr>\n",
       "      <th>575</th>\n",
       "      <td>02108</td>\n",
       "      <td>189.0</td>\n",
       "      <td>166.555556</td>\n",
       "    </tr>\n",
       "    <tr>\n",
       "      <th>...</th>\n",
       "      <td>...</td>\n",
       "      <td>...</td>\n",
       "      <td>...</td>\n",
       "    </tr>\n",
       "    <tr>\n",
       "      <th>2873</th>\n",
       "      <td>02446</td>\n",
       "      <td>150.0</td>\n",
       "      <td>150.000000</td>\n",
       "    </tr>\n",
       "    <tr>\n",
       "      <th>2167</th>\n",
       "      <td>02467</td>\n",
       "      <td>116.0</td>\n",
       "      <td>95.670732</td>\n",
       "    </tr>\n",
       "    <tr>\n",
       "      <th>2866</th>\n",
       "      <td>02467</td>\n",
       "      <td>68.0</td>\n",
       "      <td>68.000000</td>\n",
       "    </tr>\n",
       "    <tr>\n",
       "      <th>2138</th>\n",
       "      <td>02467</td>\n",
       "      <td>75.0</td>\n",
       "      <td>75.000000</td>\n",
       "    </tr>\n",
       "    <tr>\n",
       "      <th>1662</th>\n",
       "      <td>02472</td>\n",
       "      <td>60.0</td>\n",
       "      <td>60.000000</td>\n",
       "    </tr>\n",
       "  </tbody>\n",
       "</table>\n",
       "<p>2877 rows × 3 columns</p>\n",
       "</div>"
      ],
      "text/plain": [
       "     zipcode  pricemax   pricemean\n",
       "1627   02108     299.0  151.307692\n",
       "1596   02108    1203.0  344.589506\n",
       "1717   02108     175.0  163.741722\n",
       "1752   02108     120.0  104.983051\n",
       "575    02108     189.0  166.555556\n",
       "...      ...       ...         ...\n",
       "2873   02446     150.0  150.000000\n",
       "2167   02467     116.0   95.670732\n",
       "2866   02467      68.0   68.000000\n",
       "2138   02467      75.0   75.000000\n",
       "1662   02472      60.0   60.000000\n",
       "\n",
       "[2877 rows x 3 columns]"
      ]
     },
     "execution_count": 123,
     "metadata": {},
     "output_type": "execute_result"
    }
   ],
   "source": [
    "df_comp.head()"
   ]
  },
  {
   "cell_type": "code",
   "execution_count": 139,
   "id": "cbe195c8",
   "metadata": {},
   "outputs": [],
   "source": [
    "df_avg_mean = df_comp.groupby(by = ['zipcode']).mean()"
   ]
  },
  {
   "cell_type": "code",
   "execution_count": 140,
   "id": "0dd54860",
   "metadata": {},
   "outputs": [],
   "source": [
    "df_avg_count = df_comp.groupby(by = ['zipcode']).count()"
   ]
  },
  {
   "cell_type": "code",
   "execution_count": 141,
   "id": "e6ce5b69",
   "metadata": {},
   "outputs": [],
   "source": [
    "df_avg = df_avg_mean.join(df_avg_count, on = 'zipcode',rsuffix = \"count\")"
   ]
  },
  {
   "cell_type": "code",
   "execution_count": 154,
   "id": "d7e56e32",
   "metadata": {},
   "outputs": [
    {
     "data": {
      "text/html": [
       "<div>\n",
       "<style scoped>\n",
       "    .dataframe tbody tr th:only-of-type {\n",
       "        vertical-align: middle;\n",
       "    }\n",
       "\n",
       "    .dataframe tbody tr th {\n",
       "        vertical-align: top;\n",
       "    }\n",
       "\n",
       "    .dataframe thead th {\n",
       "        text-align: right;\n",
       "    }\n",
       "</style>\n",
       "<table border=\"1\" class=\"dataframe\">\n",
       "  <thead>\n",
       "    <tr style=\"text-align: right;\">\n",
       "      <th></th>\n",
       "      <th>pricemax</th>\n",
       "      <th>pricemean</th>\n",
       "      <th>pricemaxcount</th>\n",
       "      <th>pricemeancount</th>\n",
       "    </tr>\n",
       "    <tr>\n",
       "      <th>zipcode</th>\n",
       "      <th></th>\n",
       "      <th></th>\n",
       "      <th></th>\n",
       "      <th></th>\n",
       "    </tr>\n",
       "  </thead>\n",
       "  <tbody>\n",
       "    <tr>\n",
       "      <th>02108</th>\n",
       "      <td>354.079365</td>\n",
       "      <td>243.820391</td>\n",
       "      <td>63</td>\n",
       "      <td>63</td>\n",
       "    </tr>\n",
       "    <tr>\n",
       "      <th>02108 02111</th>\n",
       "      <td>599.000000</td>\n",
       "      <td>357.576271</td>\n",
       "      <td>1</td>\n",
       "      <td>1</td>\n",
       "    </tr>\n",
       "    <tr>\n",
       "      <th>02109</th>\n",
       "      <td>444.971429</td>\n",
       "      <td>270.739546</td>\n",
       "      <td>35</td>\n",
       "      <td>35</td>\n",
       "    </tr>\n",
       "    <tr>\n",
       "      <th>02110</th>\n",
       "      <td>457.166667</td>\n",
       "      <td>316.893055</td>\n",
       "      <td>12</td>\n",
       "      <td>12</td>\n",
       "    </tr>\n",
       "    <tr>\n",
       "      <th>02111</th>\n",
       "      <td>376.879518</td>\n",
       "      <td>290.121468</td>\n",
       "      <td>83</td>\n",
       "      <td>83</td>\n",
       "    </tr>\n",
       "  </tbody>\n",
       "</table>\n",
       "</div>"
      ],
      "text/plain": [
       "               pricemax   pricemean  pricemaxcount  pricemeancount\n",
       "zipcode                                                           \n",
       "02108        354.079365  243.820391             63              63\n",
       "02108 02111  599.000000  357.576271              1               1\n",
       "02109        444.971429  270.739546             35              35\n",
       "02110        457.166667  316.893055             12              12\n",
       "02111        376.879518  290.121468             83              83"
      ]
     },
     "execution_count": 154,
     "metadata": {},
     "output_type": "execute_result"
    }
   ],
   "source": [
    "df_avg.head()"
   ]
  },
  {
   "cell_type": "code",
   "execution_count": 149,
   "id": "7bdceb41",
   "metadata": {},
   "outputs": [],
   "source": [
    "\n",
    "df_avg_sorted = df_avg.sort_values(by = ['pricemax','pricemean'],ascending = False)"
   ]
  },
  {
   "cell_type": "code",
   "execution_count": 150,
   "id": "1f968bec",
   "metadata": {},
   "outputs": [
    {
     "data": {
      "text/html": [
       "<div>\n",
       "<style scoped>\n",
       "    .dataframe tbody tr th:only-of-type {\n",
       "        vertical-align: middle;\n",
       "    }\n",
       "\n",
       "    .dataframe tbody tr th {\n",
       "        vertical-align: top;\n",
       "    }\n",
       "\n",
       "    .dataframe thead th {\n",
       "        text-align: right;\n",
       "    }\n",
       "</style>\n",
       "<table border=\"1\" class=\"dataframe\">\n",
       "  <thead>\n",
       "    <tr style=\"text-align: right;\">\n",
       "      <th></th>\n",
       "      <th>pricemax</th>\n",
       "      <th>pricemean</th>\n",
       "      <th>pricemaxcount</th>\n",
       "      <th>pricemeancount</th>\n",
       "    </tr>\n",
       "    <tr>\n",
       "      <th>zipcode</th>\n",
       "      <th></th>\n",
       "      <th></th>\n",
       "      <th></th>\n",
       "      <th></th>\n",
       "    </tr>\n",
       "  </thead>\n",
       "  <tbody>\n",
       "    <tr>\n",
       "      <th>02108 02111</th>\n",
       "      <td>599.000000</td>\n",
       "      <td>357.576271</td>\n",
       "      <td>1</td>\n",
       "      <td>1</td>\n",
       "    </tr>\n",
       "    <tr>\n",
       "      <th>02210</th>\n",
       "      <td>458.671642</td>\n",
       "      <td>341.986947</td>\n",
       "      <td>67</td>\n",
       "      <td>67</td>\n",
       "    </tr>\n",
       "    <tr>\n",
       "      <th>02110</th>\n",
       "      <td>457.166667</td>\n",
       "      <td>316.893055</td>\n",
       "      <td>12</td>\n",
       "      <td>12</td>\n",
       "    </tr>\n",
       "    <tr>\n",
       "      <th>02109</th>\n",
       "      <td>444.971429</td>\n",
       "      <td>270.739546</td>\n",
       "      <td>35</td>\n",
       "      <td>35</td>\n",
       "    </tr>\n",
       "    <tr>\n",
       "      <th>02118</th>\n",
       "      <td>385.515464</td>\n",
       "      <td>249.630940</td>\n",
       "      <td>194</td>\n",
       "      <td>194</td>\n",
       "    </tr>\n",
       "  </tbody>\n",
       "</table>\n",
       "</div>"
      ],
      "text/plain": [
       "               pricemax   pricemean  pricemaxcount  pricemeancount\n",
       "zipcode                                                           \n",
       "02108 02111  599.000000  357.576271              1               1\n",
       "02210        458.671642  341.986947             67              67\n",
       "02110        457.166667  316.893055             12              12\n",
       "02109        444.971429  270.739546             35              35\n",
       "02118        385.515464  249.630940            194             194"
      ]
     },
     "execution_count": 150,
     "metadata": {},
     "output_type": "execute_result"
    }
   ],
   "source": [
    "df_avg_sorted.head()"
   ]
  },
  {
   "cell_type": "code",
   "execution_count": 151,
   "id": "876aae2b",
   "metadata": {},
   "outputs": [],
   "source": [
    "#Since both count columns have same count we can drop one of the variables\n",
    "df_avg_sorted.drop(labels = ['pricemaxcount'],axis =1,inplace  = True)\n"
   ]
  },
  {
   "cell_type": "code",
   "execution_count": 153,
   "id": "d44bca66",
   "metadata": {},
   "outputs": [
    {
     "data": {
      "text/html": [
       "<div>\n",
       "<style scoped>\n",
       "    .dataframe tbody tr th:only-of-type {\n",
       "        vertical-align: middle;\n",
       "    }\n",
       "\n",
       "    .dataframe tbody tr th {\n",
       "        vertical-align: top;\n",
       "    }\n",
       "\n",
       "    .dataframe thead th {\n",
       "        text-align: right;\n",
       "    }\n",
       "</style>\n",
       "<table border=\"1\" class=\"dataframe\">\n",
       "  <thead>\n",
       "    <tr style=\"text-align: right;\">\n",
       "      <th></th>\n",
       "      <th>pricemax</th>\n",
       "      <th>pricemean</th>\n",
       "      <th>pricemeancount</th>\n",
       "    </tr>\n",
       "    <tr>\n",
       "      <th>zipcode</th>\n",
       "      <th></th>\n",
       "      <th></th>\n",
       "      <th></th>\n",
       "    </tr>\n",
       "  </thead>\n",
       "  <tbody>\n",
       "    <tr>\n",
       "      <th>02108 02111</th>\n",
       "      <td>599.000000</td>\n",
       "      <td>357.576271</td>\n",
       "      <td>1</td>\n",
       "    </tr>\n",
       "    <tr>\n",
       "      <th>02210</th>\n",
       "      <td>458.671642</td>\n",
       "      <td>341.986947</td>\n",
       "      <td>67</td>\n",
       "    </tr>\n",
       "    <tr>\n",
       "      <th>02110</th>\n",
       "      <td>457.166667</td>\n",
       "      <td>316.893055</td>\n",
       "      <td>12</td>\n",
       "    </tr>\n",
       "    <tr>\n",
       "      <th>02109</th>\n",
       "      <td>444.971429</td>\n",
       "      <td>270.739546</td>\n",
       "      <td>35</td>\n",
       "    </tr>\n",
       "    <tr>\n",
       "      <th>02118</th>\n",
       "      <td>385.515464</td>\n",
       "      <td>249.630940</td>\n",
       "      <td>194</td>\n",
       "    </tr>\n",
       "  </tbody>\n",
       "</table>\n",
       "</div>"
      ],
      "text/plain": [
       "               pricemax   pricemean  pricemeancount\n",
       "zipcode                                            \n",
       "02108 02111  599.000000  357.576271               1\n",
       "02210        458.671642  341.986947              67\n",
       "02110        457.166667  316.893055              12\n",
       "02109        444.971429  270.739546              35\n",
       "02118        385.515464  249.630940             194"
      ]
     },
     "execution_count": 153,
     "metadata": {},
     "output_type": "execute_result"
    }
   ],
   "source": [
    "df_avg_sorted.head()"
   ]
  },
  {
   "cell_type": "markdown",
   "id": "d613c9b5",
   "metadata": {},
   "source": [
    "### We can see in the table above the top most expensive areas in Boston based on the prices throughout the whole year. The top zip code seems like a single property falling on both zip codes.\n",
    "### Hence we consider 02210 , 02110, 02109, 02118 as some of the most expensive zip codes in Boston"
   ]
  },
  {
   "cell_type": "code",
   "execution_count": 162,
   "id": "e6807022",
   "metadata": {},
   "outputs": [
    {
     "data": {
      "text/plain": [
       "0"
      ]
     },
     "execution_count": 162,
     "metadata": {},
     "output_type": "execute_result"
    }
   ],
   "source": [
    "BostonCalendar['available'].value_counts()\n",
    "BostonCalendar['date'].isnull().sum()"
   ]
  },
  {
   "cell_type": "code",
   "execution_count": 157,
   "id": "44389c57",
   "metadata": {},
   "outputs": [],
   "source": [
    "df_avail = BostonCalendar[['listing_id','available','date']]"
   ]
  },
  {
   "cell_type": "code",
   "execution_count": 164,
   "id": "9a05a30d",
   "metadata": {},
   "outputs": [
    {
     "data": {
      "text/html": [
       "<div>\n",
       "<style scoped>\n",
       "    .dataframe tbody tr th:only-of-type {\n",
       "        vertical-align: middle;\n",
       "    }\n",
       "\n",
       "    .dataframe tbody tr th {\n",
       "        vertical-align: top;\n",
       "    }\n",
       "\n",
       "    .dataframe thead th {\n",
       "        text-align: right;\n",
       "    }\n",
       "</style>\n",
       "<table border=\"1\" class=\"dataframe\">\n",
       "  <thead>\n",
       "    <tr style=\"text-align: right;\">\n",
       "      <th></th>\n",
       "      <th>listing_id</th>\n",
       "      <th>available</th>\n",
       "      <th>date</th>\n",
       "    </tr>\n",
       "  </thead>\n",
       "  <tbody>\n",
       "    <tr>\n",
       "      <th>0</th>\n",
       "      <td>12147973</td>\n",
       "      <td>f</td>\n",
       "      <td>2017-09-05</td>\n",
       "    </tr>\n",
       "    <tr>\n",
       "      <th>1</th>\n",
       "      <td>12147973</td>\n",
       "      <td>f</td>\n",
       "      <td>2017-09-04</td>\n",
       "    </tr>\n",
       "    <tr>\n",
       "      <th>2</th>\n",
       "      <td>12147973</td>\n",
       "      <td>f</td>\n",
       "      <td>2017-09-03</td>\n",
       "    </tr>\n",
       "    <tr>\n",
       "      <th>3</th>\n",
       "      <td>12147973</td>\n",
       "      <td>f</td>\n",
       "      <td>2017-09-02</td>\n",
       "    </tr>\n",
       "    <tr>\n",
       "      <th>4</th>\n",
       "      <td>12147973</td>\n",
       "      <td>f</td>\n",
       "      <td>2017-09-01</td>\n",
       "    </tr>\n",
       "  </tbody>\n",
       "</table>\n",
       "</div>"
      ],
      "text/plain": [
       "   listing_id available        date\n",
       "0    12147973         f  2017-09-05\n",
       "1    12147973         f  2017-09-04\n",
       "2    12147973         f  2017-09-03\n",
       "3    12147973         f  2017-09-02\n",
       "4    12147973         f  2017-09-01"
      ]
     },
     "execution_count": 164,
     "metadata": {},
     "output_type": "execute_result"
    }
   ],
   "source": [
    "df_avail.head()"
   ]
  },
  {
   "cell_type": "code",
   "execution_count": 270,
   "id": "8a3f8e18",
   "metadata": {},
   "outputs": [],
   "source": [
    "df_false = df_avail.loc[df_avail['available']=='t']"
   ]
  },
  {
   "cell_type": "code",
   "execution_count": 271,
   "id": "2a1548c8",
   "metadata": {},
   "outputs": [
    {
     "data": {
      "text/html": [
       "<div>\n",
       "<style scoped>\n",
       "    .dataframe tbody tr th:only-of-type {\n",
       "        vertical-align: middle;\n",
       "    }\n",
       "\n",
       "    .dataframe tbody tr th {\n",
       "        vertical-align: top;\n",
       "    }\n",
       "\n",
       "    .dataframe thead th {\n",
       "        text-align: right;\n",
       "    }\n",
       "</style>\n",
       "<table border=\"1\" class=\"dataframe\">\n",
       "  <thead>\n",
       "    <tr style=\"text-align: right;\">\n",
       "      <th></th>\n",
       "      <th>listing_id</th>\n",
       "      <th>available</th>\n",
       "      <th>date</th>\n",
       "    </tr>\n",
       "  </thead>\n",
       "  <tbody>\n",
       "    <tr>\n",
       "      <th>365</th>\n",
       "      <td>3075044</td>\n",
       "      <td>t</td>\n",
       "      <td>2017-08-22</td>\n",
       "    </tr>\n",
       "    <tr>\n",
       "      <th>366</th>\n",
       "      <td>3075044</td>\n",
       "      <td>t</td>\n",
       "      <td>2017-08-21</td>\n",
       "    </tr>\n",
       "    <tr>\n",
       "      <th>367</th>\n",
       "      <td>3075044</td>\n",
       "      <td>t</td>\n",
       "      <td>2017-08-20</td>\n",
       "    </tr>\n",
       "    <tr>\n",
       "      <th>368</th>\n",
       "      <td>3075044</td>\n",
       "      <td>t</td>\n",
       "      <td>2017-08-19</td>\n",
       "    </tr>\n",
       "    <tr>\n",
       "      <th>369</th>\n",
       "      <td>3075044</td>\n",
       "      <td>t</td>\n",
       "      <td>2017-08-18</td>\n",
       "    </tr>\n",
       "    <tr>\n",
       "      <th>...</th>\n",
       "      <td>...</td>\n",
       "      <td>...</td>\n",
       "      <td>...</td>\n",
       "    </tr>\n",
       "    <tr>\n",
       "      <th>1308875</th>\n",
       "      <td>14504422</td>\n",
       "      <td>t</td>\n",
       "      <td>2016-09-20</td>\n",
       "    </tr>\n",
       "    <tr>\n",
       "      <th>1308876</th>\n",
       "      <td>14504422</td>\n",
       "      <td>t</td>\n",
       "      <td>2016-09-19</td>\n",
       "    </tr>\n",
       "    <tr>\n",
       "      <th>1308877</th>\n",
       "      <td>14504422</td>\n",
       "      <td>t</td>\n",
       "      <td>2016-09-18</td>\n",
       "    </tr>\n",
       "    <tr>\n",
       "      <th>1308878</th>\n",
       "      <td>14504422</td>\n",
       "      <td>t</td>\n",
       "      <td>2016-09-17</td>\n",
       "    </tr>\n",
       "    <tr>\n",
       "      <th>1308879</th>\n",
       "      <td>14504422</td>\n",
       "      <td>t</td>\n",
       "      <td>2016-09-16</td>\n",
       "    </tr>\n",
       "  </tbody>\n",
       "</table>\n",
       "<p>643037 rows × 3 columns</p>\n",
       "</div>"
      ],
      "text/plain": [
       "         listing_id available        date\n",
       "365         3075044         t  2017-08-22\n",
       "366         3075044         t  2017-08-21\n",
       "367         3075044         t  2017-08-20\n",
       "368         3075044         t  2017-08-19\n",
       "369         3075044         t  2017-08-18\n",
       "...             ...       ...         ...\n",
       "1308875    14504422         t  2016-09-20\n",
       "1308876    14504422         t  2016-09-19\n",
       "1308877    14504422         t  2016-09-18\n",
       "1308878    14504422         t  2016-09-17\n",
       "1308879    14504422         t  2016-09-16\n",
       "\n",
       "[643037 rows x 3 columns]"
      ]
     },
     "execution_count": 271,
     "metadata": {},
     "output_type": "execute_result"
    }
   ],
   "source": [
    "df_false"
   ]
  },
  {
   "cell_type": "code",
   "execution_count": 272,
   "id": "d79c459a",
   "metadata": {},
   "outputs": [],
   "source": [
    "most_occupied = pd.DataFrame(df_false['date'].value_counts())"
   ]
  },
  {
   "cell_type": "code",
   "execution_count": 273,
   "id": "2b326316",
   "metadata": {},
   "outputs": [],
   "source": [
    "most_occupied['dates'] = most_occupied.index"
   ]
  },
  {
   "cell_type": "code",
   "execution_count": 274,
   "id": "22af94d8",
   "metadata": {},
   "outputs": [
    {
     "data": {
      "text/html": [
       "<div>\n",
       "<style scoped>\n",
       "    .dataframe tbody tr th:only-of-type {\n",
       "        vertical-align: middle;\n",
       "    }\n",
       "\n",
       "    .dataframe tbody tr th {\n",
       "        vertical-align: top;\n",
       "    }\n",
       "\n",
       "    .dataframe thead th {\n",
       "        text-align: right;\n",
       "    }\n",
       "</style>\n",
       "<table border=\"1\" class=\"dataframe\">\n",
       "  <thead>\n",
       "    <tr style=\"text-align: right;\">\n",
       "      <th></th>\n",
       "      <th>date</th>\n",
       "      <th>dates</th>\n",
       "    </tr>\n",
       "  </thead>\n",
       "  <tbody>\n",
       "    <tr>\n",
       "      <th>2016-12-04</th>\n",
       "      <td>2207</td>\n",
       "      <td>2016-12-04</td>\n",
       "    </tr>\n",
       "    <tr>\n",
       "      <th>2016-12-03</th>\n",
       "      <td>2178</td>\n",
       "      <td>2016-12-03</td>\n",
       "    </tr>\n",
       "    <tr>\n",
       "      <th>2016-12-02</th>\n",
       "      <td>2164</td>\n",
       "      <td>2016-12-02</td>\n",
       "    </tr>\n",
       "    <tr>\n",
       "      <th>2016-12-01</th>\n",
       "      <td>2128</td>\n",
       "      <td>2016-12-01</td>\n",
       "    </tr>\n",
       "    <tr>\n",
       "      <th>2016-11-30</th>\n",
       "      <td>2111</td>\n",
       "      <td>2016-11-30</td>\n",
       "    </tr>\n",
       "    <tr>\n",
       "      <th>...</th>\n",
       "      <td>...</td>\n",
       "      <td>...</td>\n",
       "    </tr>\n",
       "    <tr>\n",
       "      <th>2016-09-17</th>\n",
       "      <td>803</td>\n",
       "      <td>2016-09-17</td>\n",
       "    </tr>\n",
       "    <tr>\n",
       "      <th>2016-09-14</th>\n",
       "      <td>795</td>\n",
       "      <td>2016-09-14</td>\n",
       "    </tr>\n",
       "    <tr>\n",
       "      <th>2016-09-15</th>\n",
       "      <td>775</td>\n",
       "      <td>2016-09-15</td>\n",
       "    </tr>\n",
       "    <tr>\n",
       "      <th>2016-09-16</th>\n",
       "      <td>769</td>\n",
       "      <td>2016-09-16</td>\n",
       "    </tr>\n",
       "    <tr>\n",
       "      <th>2016-09-06</th>\n",
       "      <td>570</td>\n",
       "      <td>2016-09-06</td>\n",
       "    </tr>\n",
       "  </tbody>\n",
       "</table>\n",
       "<p>365 rows × 2 columns</p>\n",
       "</div>"
      ],
      "text/plain": [
       "            date       dates\n",
       "2016-12-04  2207  2016-12-04\n",
       "2016-12-03  2178  2016-12-03\n",
       "2016-12-02  2164  2016-12-02\n",
       "2016-12-01  2128  2016-12-01\n",
       "2016-11-30  2111  2016-11-30\n",
       "...          ...         ...\n",
       "2016-09-17   803  2016-09-17\n",
       "2016-09-14   795  2016-09-14\n",
       "2016-09-15   775  2016-09-15\n",
       "2016-09-16   769  2016-09-16\n",
       "2016-09-06   570  2016-09-06\n",
       "\n",
       "[365 rows x 2 columns]"
      ]
     },
     "execution_count": 274,
     "metadata": {},
     "output_type": "execute_result"
    }
   ],
   "source": [
    "most_occupied"
   ]
  },
  {
   "cell_type": "markdown",
   "id": "d63c21ab",
   "metadata": {},
   "source": [
    "### Since we are using the data of a single year so the year part of a date is not significant in this context."
   ]
  },
  {
   "cell_type": "code",
   "execution_count": 275,
   "id": "f0376b00",
   "metadata": {},
   "outputs": [],
   "source": [
    "most_occupied['dates'] = most_occupied['dates'].apply(lambda x: x[5:])"
   ]
  },
  {
   "cell_type": "code",
   "execution_count": 276,
   "id": "17e0a9ab",
   "metadata": {},
   "outputs": [],
   "source": [
    "most_occupied.sort_values(by = ['dates'],inplace = True)"
   ]
  },
  {
   "cell_type": "code",
   "execution_count": 277,
   "id": "0fe88d63",
   "metadata": {},
   "outputs": [
    {
     "data": {
      "text/plain": [
       "2027"
      ]
     },
     "execution_count": 277,
     "metadata": {},
     "output_type": "execute_result"
    }
   ],
   "source": [
    "most_occupied.iloc[0,0].sum()"
   ]
  },
  {
   "cell_type": "code",
   "execution_count": 278,
   "id": "e14ede1f",
   "metadata": {},
   "outputs": [],
   "source": [
    "week_dict = {}"
   ]
  },
  {
   "cell_type": "code",
   "execution_count": 279,
   "id": "b7be3f7b",
   "metadata": {},
   "outputs": [],
   "source": [
    "week_num = 1\n",
    "for i in range(0,most_occupied.shape[0],7):\n",
    "    week_dict[\"Week\"+str(week_num)] = most_occupied.iloc[i:i+7,0].sum()\n",
    "    week_num += 1\n",
    "    "
   ]
  },
  {
   "cell_type": "code",
   "execution_count": 280,
   "id": "b84f3935",
   "metadata": {},
   "outputs": [
    {
     "data": {
      "text/plain": [
       "{'Week1': 14240,\n",
       " 'Week2': 14305,\n",
       " 'Week3': 14311,\n",
       " 'Week4': 14225,\n",
       " 'Week5': 14167,\n",
       " 'Week6': 14139,\n",
       " 'Week7': 14210,\n",
       " 'Week8': 14270,\n",
       " 'Week9': 14219,\n",
       " 'Week10': 12176,\n",
       " 'Week11': 12191,\n",
       " 'Week12': 12240,\n",
       " 'Week13': 12231,\n",
       " 'Week14': 12201,\n",
       " 'Week15': 11795,\n",
       " 'Week16': 11722,\n",
       " 'Week17': 12149,\n",
       " 'Week18': 12161,\n",
       " 'Week19': 12167,\n",
       " 'Week20': 12054,\n",
       " 'Week21': 11985,\n",
       " 'Week22': 12269,\n",
       " 'Week23': 12253,\n",
       " 'Week24': 12314,\n",
       " 'Week25': 12321,\n",
       " 'Week26': 12333,\n",
       " 'Week27': 12371,\n",
       " 'Week28': 12409,\n",
       " 'Week29': 12420,\n",
       " 'Week30': 12443,\n",
       " 'Week31': 12480,\n",
       " 'Week32': 12515,\n",
       " 'Week33': 12549,\n",
       " 'Week34': 12596,\n",
       " 'Week35': 12571,\n",
       " 'Week36': 8886,\n",
       " 'Week37': 6044,\n",
       " 'Week38': 7279,\n",
       " 'Week39': 7596,\n",
       " 'Week40': 9179,\n",
       " 'Week41': 10180,\n",
       " 'Week42': 10116,\n",
       " 'Week43': 11465,\n",
       " 'Week44': 12981,\n",
       " 'Week45': 13088,\n",
       " 'Week46': 13510,\n",
       " 'Week47': 14241,\n",
       " 'Week48': 14765,\n",
       " 'Week49': 13919,\n",
       " 'Week50': 13512,\n",
       " 'Week51': 13644,\n",
       " 'Week52': 13645,\n",
       " 'Week53': 1985}"
      ]
     },
     "execution_count": 280,
     "metadata": {},
     "output_type": "execute_result"
    }
   ],
   "source": [
    "week_dict"
   ]
  },
  {
   "cell_type": "code",
   "execution_count": 281,
   "id": "44c91f00",
   "metadata": {},
   "outputs": [
    {
     "data": {
      "image/png": "[encoded data removed]",
      "text/plain": [
       "<Figure size 3600x576 with 1 Axes>"
      ]
     },
     "metadata": {
      "needs_background": "light"
     },
     "output_type": "display_data"
    }
   ],
   "source": [
    "week_plot = plt.figure()\n",
    "week_plot.set_figwidth(50)\n",
    "week_plot.set_figheight(8)\n",
    "plt.plot(week_dict.keys(),week_dict.values())\n",
    "plt.tick_params(axis='x', which='major', labelsize=11)\n",
    "plt.show()"
   ]
  },
  {
   "cell_type": "markdown",
   "id": "7ab4e3dc",
   "metadata": {},
   "source": [
    "## We can observe in the plot above that from week 36(1st week of September) to week 42(Mid-October) the availability is least hence we can deduce that it is the busiest time of year and we can increase prices."
   ]
  },
  {
   "cell_type": "markdown",
   "id": "c168a841",
   "metadata": {},
   "source": [
    "1. wer\n",
    "2. Wert\n",
    "3. ssss"
   ]
  },
  {
   "cell_type": "code",
   "execution_count": null,
   "id": "e388513c",
   "metadata": {},
   "outputs": [],
   "source": []
  }
 ],
 "metadata": {
  "kernelspec": {
   "display_name": "Python 3 (ipykernel)",
   "language": "python",
   "name": "python3"
  },
  "language_info": {
   "codemirror_mode": {
    "name": "ipython",
    "version": 3
   },
   "file_extension": ".py",
   "mimetype": "text/x-python",
   "name": "python",
   "nbconvert_exporter": "python",
   "pygments_lexer": "ipython3",
   "version": "3.9.12"
  }
 },
 "nbformat": 4,
 "nbformat_minor": 5
}
