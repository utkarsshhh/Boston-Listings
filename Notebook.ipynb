{
 "cells": [
  {
   "cell_type": "markdown",
   "id": "6699f558",
   "metadata": {},
   "source": [
    "# Boston Listings"
   ]
  },
  {
   "cell_type": "code",
   "execution_count": 1,
   "id": "6e49db1a",
   "metadata": {},
   "outputs": [],
   "source": [
    "## The following Analysis follows the CRISP-DM process"
   ]
  },
  {
   "cell_type": "markdown",
   "id": "f4bc8273",
   "metadata": {},
   "source": [
    "# **Reading the Dataset**"
   ]
  },
  {
   "cell_type": "code",
   "execution_count": null,
   "id": "8d27ae3b",
   "metadata": {},
   "outputs": [],
   "source": [
    "# Importing the libraries\n",
    "import pandas as pd\n",
    "import numpy as np\n",
    "import matplotlib.pyplot as plt"
   ]
  },
  {
   "cell_type": "code",
   "execution_count": null,
   "id": "e465e0e0",
   "metadata": {},
   "outputs": [],
   "source": [
    "# Loading the Dataset\n",
    "BostonCalendar = pd.read_csv(\"Boston/calendar.csv\")\n",
    "BostonListings = pd.read_csv(\"Boston/listings.csv\")\n",
    "BostonReviews = pd.read_csv(\"Boston/reviews.csv\")"
   ]
  },
  {
   "cell_type": "markdown",
   "id": "922c68bd",
   "metadata": {},
   "source": [
    "# Business Understanding"
   ]
  },
  {
   "cell_type": "markdown",
   "id": "43b3548d",
   "metadata": {},
   "source": [
    "## Understanding the insights to be gained from Data"
   ]
  },
  {
   "cell_type": "code",
   "execution_count": null,
   "id": "78bfc9db",
   "metadata": {},
   "outputs": [],
   "source": [
    "print (BostonCalendar.head())"
   ]
  },
  {
   "cell_type": "code",
   "execution_count": null,
   "id": "bec7eb8d",
   "metadata": {},
   "outputs": [],
   "source": [
    "print (BostonReviews.head())"
   ]
  },
  {
   "cell_type": "code",
   "execution_count": null,
   "id": "33a734b4",
   "metadata": {},
   "outputs": [],
   "source": [
    "print (BostonListings.head())"
   ]
  },
  {
   "cell_type": "markdown",
   "id": "5dfce5e7",
   "metadata": {},
   "source": [
    "#  Data Understanding"
   ]
  },
  {
   "cell_type": "code",
   "execution_count": null,
   "id": "f0c023f7",
   "metadata": {},
   "outputs": [],
   "source": [
    "BostonReviews"
   ]
  },
  {
   "cell_type": "code",
   "execution_count": null,
   "id": "395d1403",
   "metadata": {},
   "outputs": [],
   "source": [
    "BostonCalendar.columns"
   ]
  },
  {
   "cell_type": "code",
   "execution_count": null,
   "id": "f95917ca",
   "metadata": {},
   "outputs": [],
   "source": [
    "BostonListings.columns"
   ]
  },
  {
   "cell_type": "code",
   "execution_count": null,
   "id": "613967ac",
   "metadata": {},
   "outputs": [],
   "source": [
    "BostonReviews.columns"
   ]
  },
  {
   "cell_type": "code",
   "execution_count": null,
   "id": "37cfeda5",
   "metadata": {},
   "outputs": [],
   "source": [
    "BostonCalendar['available'].value_counts()"
   ]
  },
  {
   "cell_type": "code",
   "execution_count": null,
   "id": "1687ec8f",
   "metadata": {},
   "outputs": [],
   "source": [
    "# Trying to check if there is any bias in the reviews due to missing URL's\n",
    "BostonListings['listing_url'].isnull().sum()"
   ]
  },
  {
   "cell_type": "markdown",
   "id": "5b7e4ee7",
   "metadata": {},
   "source": [
    "# Most Popular Listings \n",
    "## Data Preparation"
   ]
  },
  {
   "cell_type": "code",
   "execution_count": null,
   "id": "632a37a9",
   "metadata": {},
   "outputs": [],
   "source": [
    "# Sorting the listings according to number of reviews to observe the most popular lisitings.\n",
    "most_reviews = BostonListings[['id','number_of_reviews']].sort_values(by = ['number_of_reviews'],ascending = False)"
   ]
  },
  {
   "cell_type": "markdown",
   "id": "995b2c58",
   "metadata": {},
   "source": [
    "## Analysis"
   ]
  },
  {
   "cell_type": "code",
   "execution_count": null,
   "id": "2fc8a07f",
   "metadata": {},
   "outputs": [],
   "source": [
    "most_reviews.head()"
   ]
  },
  {
   "cell_type": "markdown",
   "id": "691b3a98",
   "metadata": {},
   "source": [
    "## From the table given above we can observe some of most popular lisitings in Boston having the maximum reviews"
   ]
  },
  {
   "cell_type": "code",
   "execution_count": null,
   "id": "2c60623f",
   "metadata": {},
   "outputs": [],
   "source": []
  },
  {
   "cell_type": "markdown",
   "id": "1f5d5129",
   "metadata": {},
   "source": [
    "# __Identifying the most expensive zipcodes__\n",
    "## Data Preparation"
   ]
  },
  {
   "cell_type": "code",
   "execution_count": null,
   "id": "bda37c3a",
   "metadata": {},
   "outputs": [],
   "source": [
    "zipcode_id_df = BostonListings[['zipcode','id']].copy()"
   ]
  },
  {
   "cell_type": "code",
   "execution_count": null,
   "id": "1d6af494",
   "metadata": {},
   "outputs": [],
   "source": [
    "price_id_df = BostonCalendar[['listing_id','price']].copy()"
   ]
  },
  {
   "cell_type": "code",
   "execution_count": null,
   "id": "68bca161",
   "metadata": {},
   "outputs": [],
   "source": [
    "price_id_df.dropna(axis = 0,inplace = True)"
   ]
  },
  {
   "cell_type": "code",
   "execution_count": null,
   "id": "05827819",
   "metadata": {},
   "outputs": [],
   "source": [
    "# Formatting the price to be used a float instead of object\n",
    "price_id_df['price'] = price_id_df['price'].apply(lambda x: float(x.replace(\",\",\"\").strip('$')))"
   ]
  },
  {
   "cell_type": "code",
   "execution_count": null,
   "id": "41f3e8b4",
   "metadata": {},
   "outputs": [],
   "source": [
    "#Calculating the maximum price of a listing in a year \n",
    "max_price_df = price_id_df.groupby(by = 'listing_id').max()"
   ]
  },
  {
   "cell_type": "code",
   "execution_count": null,
   "id": "bed5d41c",
   "metadata": {},
   "outputs": [],
   "source": [
    "#Calculating the average price of a listing in a year \n",
    "mean_price_df = price_id_df.groupby(by = 'listing_id').mean()"
   ]
  },
  {
   "cell_type": "markdown",
   "id": "10f332ee",
   "metadata": {},
   "source": []
  },
  {
   "cell_type": "code",
   "execution_count": null,
   "id": "21f35d3d",
   "metadata": {},
   "outputs": [],
   "source": [
    "mean_max_merge = max_price_df.join(mean_price_df ,on = 'listing_id',lsuffix = \"max\",rsuffix = \"mean\")"
   ]
  },
  {
   "cell_type": "code",
   "execution_count": null,
   "id": "deeaf6a4",
   "metadata": {},
   "outputs": [],
   "source": [
    "mean_max_merge.head()"
   ]
  },
  {
   "cell_type": "code",
   "execution_count": null,
   "id": "56cfd4a1",
   "metadata": {},
   "outputs": [],
   "source": [
    "zipcode_id_df.dropna(subset = ['zipcode'], axis = 0,inplace = True)"
   ]
  },
  {
   "cell_type": "code",
   "execution_count": null,
   "id": "6e32412d",
   "metadata": {},
   "outputs": [],
   "source": [
    "zipcode_id_df.columns = ['zipcode','listing_id']"
   ]
  },
  {
   "cell_type": "code",
   "execution_count": null,
   "id": "0e8af934",
   "metadata": {},
   "outputs": [],
   "source": [
    "# Adding the zip codes of each listing\n",
    "zipcode_price_merge = zipcode_id_df.merge(mean_max_merge,on = 'listing_id')"
   ]
  },
  {
   "cell_type": "code",
   "execution_count": null,
   "id": "695c81a3",
   "metadata": {},
   "outputs": [],
   "source": [
    "zipcode_price_merge.head()"
   ]
  },
  {
   "cell_type": "code",
   "execution_count": null,
   "id": "1d0c143d",
   "metadata": {},
   "outputs": [],
   "source": [
    "zipcode_price_merge.sort_values(by = ['zipcode'],inplace = True)"
   ]
  },
  {
   "cell_type": "code",
   "execution_count": null,
   "id": "733d41f6",
   "metadata": {},
   "outputs": [],
   "source": [
    "zipcode_price_merge.drop(columns = ['listing_id'],axis =1,inplace = True)"
   ]
  },
  {
   "cell_type": "code",
   "execution_count": null,
   "id": "e467b3b5",
   "metadata": {},
   "outputs": [],
   "source": [
    "zipcode_price_merge.head()"
   ]
  },
  {
   "cell_type": "code",
   "execution_count": null,
   "id": "bdca8c87",
   "metadata": {},
   "outputs": [],
   "source": [
    "#Calculating the average prices of any zip code\n",
    "zipcode_price_mean = zipcode_price_merge.groupby(by = ['zipcode']).mean()"
   ]
  },
  {
   "cell_type": "code",
   "execution_count": null,
   "id": "9114ba1d",
   "metadata": {},
   "outputs": [],
   "source": [
    "#Calculating the number of listings in each zip code\n",
    "zipcode_listings = zipcode_price_merge.groupby(by = ['zipcode']).count()"
   ]
  },
  {
   "cell_type": "code",
   "execution_count": null,
   "id": "f48cf04f",
   "metadata": {},
   "outputs": [],
   "source": [
    "df_avg_price = zipcode_price_mean.join(zipcode_listings, on = 'zipcode',rsuffix = \"count\")"
   ]
  },
  {
   "cell_type": "code",
   "execution_count": null,
   "id": "3e6bf682",
   "metadata": {},
   "outputs": [],
   "source": [
    "df_avg_price.head()"
   ]
  },
  {
   "cell_type": "markdown",
   "id": "180b28c4",
   "metadata": {},
   "source": [
    "## Analysis"
   ]
  },
  {
   "cell_type": "code",
   "execution_count": null,
   "id": "4261e6d1",
   "metadata": {},
   "outputs": [],
   "source": [
    "\n",
    "df_avg_sorted = df_avg_price.sort_values(by = ['pricemax','pricemean'],ascending = False)"
   ]
  },
  {
   "cell_type": "code",
   "execution_count": null,
   "id": "523f1ce4",
   "metadata": {},
   "outputs": [],
   "source": [
    "df_avg_sorted.head()"
   ]
  },
  {
   "cell_type": "code",
   "execution_count": null,
   "id": "d29c2554",
   "metadata": {},
   "outputs": [],
   "source": [
    "#Since both count columns have same count we can drop one of the variables\n",
    "df_avg_sorted.drop(labels = ['pricemaxcount'],axis =1,inplace  = True)\n"
   ]
  },
  {
   "cell_type": "code",
   "execution_count": null,
   "id": "c44d72cb",
   "metadata": {},
   "outputs": [],
   "source": [
    "# Below is the table displaying the most expensive zip codes in Boston\n",
    "df_avg_sorted.head()"
   ]
  },
  {
   "cell_type": "markdown",
   "id": "3e9631d0",
   "metadata": {},
   "source": [
    "### We can see in the table above the top most expensive areas in Boston based on the prices throughout the whole year. The top zip code seems like a single property falling on both zip codes.\n",
    "### Hence we consider 02210 , 02110, 02109, 02118 as some of the most expensive zip codes in Boston"
   ]
  },
  {
   "cell_type": "markdown",
   "id": "5289824e",
   "metadata": {},
   "source": [
    "# Busiest Time of the year \n",
    "## Data Preparation"
   ]
  },
  {
   "cell_type": "code",
   "execution_count": null,
   "id": "c327fa3e",
   "metadata": {},
   "outputs": [],
   "source": [
    "BostonCalendar['available'].value_counts()\n",
    "BostonCalendar['date'].isnull().sum()"
   ]
  },
  {
   "cell_type": "code",
   "execution_count": null,
   "id": "1c400aca",
   "metadata": {},
   "outputs": [],
   "source": [
    "df_avail = BostonCalendar[['listing_id','available','date']]"
   ]
  },
  {
   "cell_type": "code",
   "execution_count": null,
   "id": "54b709a1",
   "metadata": {},
   "outputs": [],
   "source": [
    "df_avail.head()"
   ]
  },
  {
   "cell_type": "code",
   "execution_count": null,
   "id": "c30ff518",
   "metadata": {},
   "outputs": [],
   "source": [
    "# Selecting all the dates on which any listing is available\n",
    "df_true_available = df_avail.loc[df_avail['available']=='t']"
   ]
  },
  {
   "cell_type": "code",
   "execution_count": null,
   "id": "3fc3a43c",
   "metadata": {},
   "outputs": [],
   "source": [
    "df_true_available"
   ]
  },
  {
   "cell_type": "code",
   "execution_count": null,
   "id": "23cf895d",
   "metadata": {},
   "outputs": [],
   "source": [
    "most_occupied = pd.DataFrame(df_true_available['date'].value_counts())"
   ]
  },
  {
   "cell_type": "code",
   "execution_count": null,
   "id": "7f7589ec",
   "metadata": {},
   "outputs": [],
   "source": [
    "most_occupied['dates'] = most_occupied.index"
   ]
  },
  {
   "cell_type": "code",
   "execution_count": null,
   "id": "bbaa136e",
   "metadata": {},
   "outputs": [],
   "source": [
    "most_occupied"
   ]
  },
  {
   "cell_type": "markdown",
   "id": "f4aee1c7",
   "metadata": {},
   "source": [
    "### Since we are using the data of a single year so the year part of a date is not significant in this context."
   ]
  },
  {
   "cell_type": "code",
   "execution_count": null,
   "id": "b6e811c5",
   "metadata": {},
   "outputs": [],
   "source": [
    "most_occupied['dates'] = most_occupied['dates'].apply(lambda x: x[5:])"
   ]
  },
  {
   "cell_type": "code",
   "execution_count": null,
   "id": "7583d71e",
   "metadata": {},
   "outputs": [],
   "source": [
    "most_occupied.sort_values(by = ['dates'],inplace = True)"
   ]
  },
  {
   "cell_type": "code",
   "execution_count": null,
   "id": "6923bebe",
   "metadata": {},
   "outputs": [],
   "source": [
    "most_occupied.iloc[0,0].sum()"
   ]
  },
  {
   "cell_type": "code",
   "execution_count": null,
   "id": "66590cb7",
   "metadata": {},
   "outputs": [],
   "source": [
    "month_dict = {}"
   ]
  },
  {
   "cell_type": "code",
   "execution_count": null,
   "id": "c962c20f",
   "metadata": {},
   "outputs": [],
   "source": [
    "month_num = 1\n",
    "for i in range(0,most_occupied.shape[0],30):\n",
    "    month_dict[\"Month\"+str(month_num)] = most_occupied.iloc[i:i+30,0].sum()\n",
    "    month_num += 1\n",
    "    "
   ]
  },
  {
   "cell_type": "markdown",
   "id": "7750a763",
   "metadata": {},
   "source": [
    "## Visualisation"
   ]
  },
  {
   "cell_type": "code",
   "execution_count": null,
   "id": "295cada0",
   "metadata": {},
   "outputs": [],
   "source": [
    "# plotting the number of availabilities in every week of the year.\n",
    "month_plot = plt.figure()\n",
    "month_plot.set_figwidth(40)\n",
    "month_plot.set_figheight(8)\n",
    "plt.plot(month_dict.keys(),month_dict.values())\n",
    "plt.xlabel(\"Months\")\n",
    "plt.ylabel(\"Average Room Availability\")\n",
    "plt.tick_params(axis='x', which='major', labelsize=15)\n",
    "plt.show()"
   ]
  },
  {
   "cell_type": "markdown",
   "id": "72465262",
   "metadata": {},
   "source": [
    "# Analysis"
   ]
  },
  {
   "cell_type": "markdown",
   "id": "43198551",
   "metadata": {},
   "source": [
    "## We can observe in the plot above that in September(Month 9) the availability is least hence we can deduce that it is the busiest time of year and we can increase prices."
   ]
  },
  {
   "cell_type": "code",
   "execution_count": null,
   "id": "0f8212a9",
   "metadata": {},
   "outputs": [],
   "source": []
  }
 ],
 "metadata": {
  "kernelspec": {
   "display_name": "Python 3 (ipykernel)",
   "language": "python",
   "name": "python3"
  },
  "language_info": {
   "codemirror_mode": {
    "name": "ipython",
    "version": 3
   },
   "file_extension": ".py",
   "mimetype": "text/x-python",
   "name": "python",
   "nbconvert_exporter": "python",
   "pygments_lexer": "ipython3",
   "version": "3.9.12"
  }
 },
 "nbformat": 4,
 "nbformat_minor": 5
}
